{
 "cells": [
  {
   "attachments": {},
   "cell_type": "markdown",
   "metadata": {},
   "source": [
    "PROYECTO INDIVIDUAL 1\n",
    "Data 06 Garcia Ressia Juan Ignacio"
   ]
  },
  {
   "attachments": {},
   "cell_type": "markdown",
   "metadata": {},
   "source": [
    "                                      TRABAJO DE TRANSFORMACION DE LOS DATA SETS"
   ]
  },
  {
   "cell_type": "code",
   "execution_count": 8,
   "metadata": {},
   "outputs": [],
   "source": [
    "import pandas as pd #IMPORTAMOS PANDAS PARA TRABAJAR SOBRE LA BASE DE DATOS"
   ]
  },
  {
   "attachments": {},
   "cell_type": "markdown",
   "metadata": {},
   "source": [
    "IMPORTO UNO A UNO LOS CSV QUE SE DISPUSIERON Y HAGO LAS TRANSFORMACIONES NECESARIAS"
   ]
  },
  {
   "attachments": {},
   "cell_type": "markdown",
   "metadata": {},
   "source": [
    "AMAZON:"
   ]
  },
  {
   "cell_type": "code",
   "execution_count": 9,
   "metadata": {},
   "outputs": [],
   "source": [
    "df_amazon=pd.read_csv(r'CSV_PLATAFORMAS\\amazon_prime_titles-score.csv') #TRABAJAMOS SOBRE EL PRIMER CSV\n",
    "df_amazon['id']='A'+df_amazon['show_id']#Generamos un campo id que estara compuesto de la primera letra del nombre de la plataforma, seguido del show_id ya presente en los datasets\n",
    "df_amazon['rating'].fillna('G', inplace=True)#Reemplazo de los valores nulos del campo rating, por el string “G”\n",
    "df_amazon['date_added']=pd.to_datetime(df_amazon['date_added'],errors='coerce')# Cambiamos los daatos de fecha al formato AAAA-mm-dd\n",
    "list_of_col=['id','show_id','type', 'title','director','cast','country','rating','duration','listed_in','description']\n",
    "for i in list_of_col:\n",
    "    df_amazon[i]=df_amazon[i].str.lower()#cambiamos los datos de texto a minusculas\n",
    "df_amazon[['duration_int','duration_type']]=df_amazon['duration'].str.split(pat=' ', expand=True)#Cambio del campo duration en dos campos: duration_int y duration_type\n",
    "df_amazon[\"duration_int\"] = df_amazon[\"duration_int\"].astype(str).astype(int)#Cambio de formato streem a integger del campo duration_int\n",
    "df_amazon['duration_type'] = df_amazon['duration_type'].replace(['seasons'],['season'])#Normalizamos el tipo de duracion de la columna duration_type\n",
    "\n"
   ]
  },
  {
   "attachments": {},
   "cell_type": "markdown",
   "metadata": {},
   "source": [
    "DISNEY:"
   ]
  },
  {
   "cell_type": "code",
   "execution_count": 10,
   "metadata": {},
   "outputs": [],
   "source": [
    "df_disney=pd.read_csv(r'CSV_PLATAFORMAS\\disney_plus_titles-score.csv')#TRABAJAMOS SOBRE EL SEGUNDO CSV\n",
    "df_disney['id']='D'+df_disney['show_id']#Generamos un campo id que estara compuesto de la primera letra del nombre de la plataforma, seguido del show_id ya presente en los datasets\n",
    "df_disney['rating'].fillna('G', inplace=True)#Reemplazo de los valores nulos del campo rating, por el string “G”\n",
    "df_disney['date_added']=pd.to_datetime(df_disney['date_added'],errors='coerce')# Cambiamos los daatos de fecha al formato AAAA-mm-dd\n",
    "list_of_col=['id','show_id','type', 'title','director','cast','country','rating','duration','listed_in','description']\n",
    "for i in list_of_col:\n",
    "    df_disney[i]=df_disney[i].str.lower()#cambiamos los datos de texto a minusculas\n",
    "df_disney[['duration_int','duration_type']]=df_disney['duration'].str.split(pat=' ', expand=True)#Cambio del campo duration en dos campos: duration_int y duration_type\n",
    "df_disney[\"duration_int\"] = df_disney[\"duration_int\"].astype(str).astype(int)#Cambio de formato streem a integger del campo duration_int\n",
    "df_disney['duration_type'] = df_disney['duration_type'].replace(['seasons'],['season'])#Normalizamos el tipo de duracion de la columna duration_type\n",
    "\n"
   ]
  },
  {
   "attachments": {},
   "cell_type": "markdown",
   "metadata": {},
   "source": [
    "HULU:"
   ]
  },
  {
   "cell_type": "code",
   "execution_count": 11,
   "metadata": {},
   "outputs": [],
   "source": [
    "df_hulu=pd.read_csv(r'CSV_PLATAFORMAS\\hulu_titles-score (2).csv')#TRABAJAMOS SOBRE EL TERCER CSV\n",
    "df_hulu['id']='H'+df_hulu['show_id']#Generamos un campo id que estara compuesto de la primera letra del nombre de la plataforma, seguido del show_id ya presente en los datasets\n",
    "df_hulu['rating'].fillna('G', inplace=True)#Reemplazo de los valores nulos del campo rating, por el string “G”\n",
    "df_hulu['date_added']=pd.to_datetime(df_hulu['date_added'],errors='coerce')# Cambiamos los datos de fecha al formato AAAA-mm-dd\n",
    "list_of_col=['id','show_id','type', 'title','director','country','rating','duration','listed_in','description']\n",
    "for i in list_of_col:\n",
    "    df_hulu[i]=df_hulu[i].str.lower()#cambiamos los datos de texto a minusculas\n",
    "\n",
    "df_hulu[['duration_int','duration_type']]=df_hulu['duration'].str.split(pat=' ', expand=True)#Cambio del campo duration en dos campos: duration_int y duration_type\n",
    "df_hulu['duration_type'] = df_hulu['duration_type'].replace(['seasons'],['season'])#Normalizamos el tipo de duracion de la columna duration_type\n",
    "df_hulu['duration_int'].fillna('0', inplace=True)\n",
    "df_hulu[\"duration_int\"] = df_hulu[\"duration_int\"].astype(str).astype(int)#Cambio de formato streem a integger del campo duration_int"
   ]
  },
  {
   "attachments": {},
   "cell_type": "markdown",
   "metadata": {},
   "source": [
    "NETFLIX:"
   ]
  },
  {
   "cell_type": "code",
   "execution_count": 5,
   "metadata": {},
   "outputs": [],
   "source": [
    "df_netflix=pd.read_csv(r'CSV_PLATAFORMAS\\netflix_titles-score.csv')#TRABAJAMOS SOBRE EL CUARTO CSV\n",
    "df_netflix['id']='N'+df_netflix['show_id']#Generamos un campo id que estara compuesto de la primera letra del nombre de la plataforma, seguido del show_id ya presente en los datasets\n",
    "df_netflix['rating'].fillna('G', inplace=True)#Reemplazo de los valores nulos del campo rating, por el string “G”\n",
    "df_netflix['date_added']=pd.to_datetime(df_netflix['date_added'],errors='coerce')# Cambiamos los daatos de fecha al formato AAAA-mm-dd\n",
    "list_of_col=['id','show_id','type', 'title','cast','director','country','rating','duration','listed_in','description']\n",
    "for i in list_of_col:\n",
    "    df_netflix[i]=df_netflix[i].str.lower()#cambiamos los datos de texto a minusculas\n",
    "\n",
    "df_netflix[['duration_int','duration_type']]=df_netflix['duration'].str.split(pat=' ', expand=True)#Cambio del campo duration en dos campos: duration_int y duration_type\n",
    "df_netflix['duration_type'] = df_netflix['duration_type'].replace(['seasons'],['season'])#Normalizamos el tipo de duracion de la columna duration_type\n",
    "df_netflix['duration_int'].fillna('0', inplace=True)\n",
    "df_netflix[\"duration_int\"] = df_netflix[\"duration_int\"].astype(str).astype(int)#Cambio de formato streem a integger del campo duration_int\n"
   ]
  },
  {
   "attachments": {},
   "cell_type": "markdown",
   "metadata": {},
   "source": [
    "SE UNIFICAN LOS 4 DATA SET PARA TRABAJAR SOBRE UNO CON TODOS LOS DATOS TRANSFORMADOS"
   ]
  },
  {
   "cell_type": "code",
   "execution_count": 6,
   "metadata": {},
   "outputs": [],
   "source": [
    "df_unificados=pd.concat([df_amazon, df_netflix, df_hulu, df_disney], axis=0)#UNIFICAMOS LOS 4 DATAFRAME A UNO SOLO\n"
   ]
  },
  {
   "attachments": {},
   "cell_type": "markdown",
   "metadata": {},
   "source": [
    "SE TRANSFORMA EL DATA SET EN UN ARCHIVO CSV"
   ]
  },
  {
   "cell_type": "code",
   "execution_count": 7,
   "metadata": {},
   "outputs": [],
   "source": [
    "df_unificados.to_csv('series_peliculas_completo_2')#CONVERTIMOS EL DATAFRAME EN UN ARCHIVO CSV"
   ]
  }
 ],
 "metadata": {
  "kernelspec": {
   "display_name": "Python 3",
   "language": "python",
   "name": "python3"
  },
  "language_info": {
   "codemirror_mode": {
    "name": "ipython",
    "version": 3
   },
   "file_extension": ".py",
   "mimetype": "text/x-python",
   "name": "python",
   "nbconvert_exporter": "python",
   "pygments_lexer": "ipython3",
   "version": "3.11.1"
  },
  "orig_nbformat": 4,
  "vscode": {
   "interpreter": {
    "hash": "5238573367df39f7286bb46f9ff5f08f63a01a80960060ce41e3c79b190280fa"
   }
  }
 },
 "nbformat": 4,
 "nbformat_minor": 2
}
